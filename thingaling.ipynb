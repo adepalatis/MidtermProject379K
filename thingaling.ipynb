{
 "cells": [
  {
   "cell_type": "code",
   "execution_count": 6,
   "metadata": {
    "collapsed": false
   },
   "outputs": [],
   "source": [
    "import numpy as np\n",
    "import pandas as pd\n",
    "import scipy as sp\n",
    "import matplotlib.pyplot as plt\n",
    "import xgboost as xgb\n",
    "\n",
    "from sklearn.cross_validation import train_test_split\n",
    "from sklearn.discriminant_analysis import LinearDiscriminantAnalysis as LDA\n",
    "\n",
    "SEED = 42"
   ]
  },
  {
   "cell_type": "code",
   "execution_count": 7,
   "metadata": {
    "collapsed": true
   },
   "outputs": [],
   "source": [
    "''' Performs cross validation procedure 10 times, holding out 20% of training data as the CV set. '''\n",
    "def cross_validate(x, y, model):\n",
    "    mean_err = 0.\n",
    "    for k in range(10):\n",
    "        # Split the training data into training and testing sets for cross-validation.\n",
    "        x_train, x_cv, y_train, y_cv = train_test_split(x, y, test_size=0.2, random_state=k*SEED)\n",
    "\n",
    "        model.fit(x_train, y_train)\n",
    "\n",
    "        # Calculate training error.\n",
    "        preds = model.predict(x_cv)\n",
    "        fold_err = model.score(x_cv, y_cv)\n",
    "        mean_err += fold_err\n",
    "        print fold_err\n",
    "    mean_err /= 10\n",
    "    return mean_err"
   ]
  },
  {
   "cell_type": "code",
   "execution_count": 8,
   "metadata": {
    "collapsed": false
   },
   "outputs": [],
   "source": [
    "''' Fills all missing values in the data with the mean of the respective feature. '''\n",
    "def fillEmptys(data_frame):\n",
    "    count = 0\n",
    "    for feature in data_frame:\n",
    "        for x in range(len(data_frame[feature])):\n",
    "            if pd.isnull(data_frame[feature][x]):\n",
    "                data_frame[feature][x] = data_frame[feature].mean()\n",
    "                count += 1"
   ]
  },
  {
   "cell_type": "code",
   "execution_count": 9,
   "metadata": {
    "collapsed": true
   },
   "outputs": [],
   "source": [
    "def plot_feature(id, feature, title):\n",
    "    plt.scatter(id, feature)\n",
    "    plt.title(title)\n",
    "    plt.show()"
   ]
  },
  {
   "cell_type": "code",
   "execution_count": 17,
   "metadata": {
    "collapsed": false
   },
   "outputs": [
    {
     "name": "stdout",
     "output_type": "stream",
     "text": [
      "0.9361\n",
      "0.9368\n",
      "0.9385\n",
      "0.9357\n",
      "0.9396\n",
      "0.9358\n",
      "0.933\n",
      "0.9347\n",
      "0.93\n",
      "0.9371\n"
     ]
    }
   ],
   "source": [
    "train = pd.read_csv('/Users/anthonydepalatis/Documents/Workspace/school/MidtermProject379K/data/train.csv')\n",
    "test = pd.read_csv('/Users/anthonydepalatis/Documents/Workspace/school/MidtermProject379K/data/test.csv')\n",
    "\n",
    "#for feature in train:\n",
    "#    if feature != 'id':\n",
    "#        plot_feature(train['id'], train[feature], feature)\n",
    "\n",
    "#fillEmptys(train)\n",
    "#fillEmptys(test)\n",
    "\n",
    "# PCA...?\n",
    "#U, svd, Vt = sp.linalg.svd(train.drop(['id'], axis=1))\n",
    "\n",
    "gbm = xgb.XGBClassifier()\n",
    "cross_validate(train.drop(['id', 'Y'], axis=1), train['Y'], gbm)\n",
    "#gbm = xgb.XGBClassifier(max_depth=10, n_estimators=1000, learning_rate=0.15, objective='binary:logistic').fit(x_train, y_train)\n",
    "\n",
    "# Make final predictions\n",
    "gbm.fit(train.drop(['id', 'Y'], axis=1), train['Y'])\n",
    "test_preds = gbm.predict(test.drop(['id'], axis=1))\n",
    "submission = pd.DataFrame({\"Id\":test.id, \"Y\":test_preds})\n",
    "submission.to_csv('/Users/anthonydepalatis/Documents/Workspace/school/MidtermProject379K/submission.csv', index=False)"
   ]
  },
  {
   "cell_type": "code",
   "execution_count": null,
   "metadata": {
    "collapsed": true
   },
   "outputs": [],
   "source": []
  }
 ],
 "metadata": {
  "kernelspec": {
   "display_name": "Python 2",
   "language": "python",
   "name": "python2"
  },
  "language_info": {
   "codemirror_mode": {
    "name": "ipython",
    "version": 2
   },
   "file_extension": ".py",
   "mimetype": "text/x-python",
   "name": "python",
   "nbconvert_exporter": "python",
   "pygments_lexer": "ipython2",
   "version": "2.7.13"
  }
 },
 "nbformat": 4,
 "nbformat_minor": 2
}
