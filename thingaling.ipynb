{
 "cells": [
  {
   "cell_type": "code",
   "execution_count": 147,
   "metadata": {
    "collapsed": false
   },
   "outputs": [],
   "source": [
    "import numpy as np\n",
    "import pandas as pd\n",
    "import scipy as sp\n",
    "import matplotlib.pyplot as plt\n",
    "import xgboost as xgb\n",
    "\n",
    "from sklearn.preprocessing import OneHotEncoder\n",
    "from sklearn.model_selection import GridSearchCV\n",
    "from sklearn.cross_validation import train_test_split\n",
    "from sklearn.discriminant_analysis import LinearDiscriminantAnalysis as LDA\n",
    "\n",
    "SEED = 42"
   ]
  },
  {
   "cell_type": "code",
   "execution_count": 148,
   "metadata": {
    "collapsed": true
   },
   "outputs": [],
   "source": [
    "''' Performs k-fold cross validation. '''\n",
    "def cross_validate(x, y, k, model):\n",
    "    mean_err = 0.\n",
    "    for i in range(k):\n",
    "        # Split the training data into training and testing sets for cross-validation.\n",
    "        x_train, x_cv, y_train, y_cv = train_test_split(x, y, test_size=float(1)/k, random_state=i*SEED)\n",
    "\n",
    "        model.fit(x_train, y_train)\n",
    "\n",
    "        # Calculate training error.\n",
    "        preds = model.predict(x_cv)\n",
    "        fold_err = model.score(x_cv, y_cv)\n",
    "        mean_err += fold_err\n",
    "    mean_err /= k\n",
    "    print mean_err"
   ]
  },
  {
   "cell_type": "code",
   "execution_count": 195,
   "metadata": {
    "collapsed": true
   },
   "outputs": [],
   "source": [
    "''' Creates scatter plots for each feature. '''\n",
    "def plot_features(data):\n",
    "    for feature in data:\n",
    "        if feature != 'id':\n",
    "            plt.scatter(data['id'], data[feature])\n",
    "            plt.title(feature)\n",
    "            plt.show()"
   ]
  },
  {
   "cell_type": "code",
   "execution_count": 196,
   "metadata": {
    "collapsed": true
   },
   "outputs": [],
   "source": [
    "''' Finds the optimal hyper parameters for and XGB model. '''\n",
    "''' WARNING: EXTREMELY LONG RUN-TIME '''\n",
    "def optimize_xgb(train):\n",
    "    tune_params = [{'max_depth': [k for k in range(40)]}, \n",
    "               {'learning_rate': [k for k in np.linspace(0.01, 0.05, 5)]},\n",
    "               {'n_estimators': [k for k in range(300)]},\n",
    "               {'gamma': [k for k in np.linspace(0.0, 0.1, 10)]}]\n",
    "    gs = GridSearchCV(xgb.XGBClassifier(), tune_params, cv=5)\n",
    "    gs.fit(train.drop(['id', 'Y'], axis=1), train['Y'])\n",
    "    print gs.best_params_\n",
    "    print gs.best_score_\n",
    "    return gs.best_estimator_"
   ]
  },
  {
   "cell_type": "code",
   "execution_count": 224,
   "metadata": {
    "collapsed": true
   },
   "outputs": [],
   "source": [
    "def encode_features(train, test, features):\n",
    "    # Create a dataframe with all the features to encode from both datasets. \n",
    "    to_encode = pd.DataFrame()\n",
    "    for feature in features:\n",
    "        to_encode[feature] = train[feature].append(test[feature])\n",
    "    to_encode = to_encode.fillna(to_encode.mean())\n",
    "\n",
    "    # Fit the OneHotEncoder to all the data.\n",
    "    enc = OneHotEncoder()\n",
    "    enc.fit(to_encode)\n",
    "    \n",
    "    # Drop every feature not to be encoded from the original data.\n",
    "    to_drop = []\n",
    "    for feature in train:\n",
    "        if feature not in features:\n",
    "            to_drop.append(feature)\n",
    "    train = train.drop(to_drop, axis=1)\n",
    "    to_drop.remove('Y')\n",
    "    test = test.drop(to_drop, axis=1)\n",
    "    \n",
    "    # Encode the data.\n",
    "    train_encoded = enc.transform(train.fillna(train.mean()))\n",
    "    test_encoded = enc.transform(test)"
   ]
  },
  {
   "cell_type": "code",
   "execution_count": 225,
   "metadata": {
    "collapsed": false
   },
   "outputs": [],
   "source": [
    "''' Stacks the predictions from the given model onto the given training and testing data as 'new_feature'. '''\n",
    "def stack_model(model, train, test, new_feature):\n",
    "    model.fit(train.drop(['id', 'Y'], axis=1), train['Y'])\n",
    "    train[new_feature] = pd.DataFrame(model.predict_proba(train.drop(['id', 'Y'], axis=1))[:,1])\n",
    "    test[new_feature] = pd.DataFrame(model.predict_proba(test.drop(['id'], axis=1))[:,1])\n",
    "    return train, test"
   ]
  },
  {
   "cell_type": "code",
   "execution_count": 226,
   "metadata": {
    "collapsed": false
   },
   "outputs": [
    {
     "ename": "ValueError",
     "evalue": "Input contains NaN, infinity or a value too large for dtype('float64').",
     "output_type": "error",
     "traceback": [
      "\u001b[0;31m---------------------------------------------------------------------------\u001b[0m",
      "\u001b[0;31mValueError\u001b[0m                                Traceback (most recent call last)",
      "\u001b[0;32m<ipython-input-226-5365e4576811>\u001b[0m in \u001b[0;36m<module>\u001b[0;34m()\u001b[0m\n\u001b[1;32m      3\u001b[0m \u001b[0;34m\u001b[0m\u001b[0m\n\u001b[1;32m      4\u001b[0m \u001b[0;31m#plot_features(train)\u001b[0m\u001b[0;34m\u001b[0m\u001b[0;34m\u001b[0m\u001b[0m\n\u001b[0;32m----> 5\u001b[0;31m \u001b[0mencode_features\u001b[0m\u001b[0;34m(\u001b[0m\u001b[0mtrain\u001b[0m\u001b[0;34m,\u001b[0m \u001b[0mtest\u001b[0m\u001b[0;34m,\u001b[0m \u001b[0;34m[\u001b[0m\u001b[0;34m'F1'\u001b[0m\u001b[0;34m,\u001b[0m \u001b[0;34m'F4'\u001b[0m\u001b[0;34m,\u001b[0m \u001b[0;34m'F5'\u001b[0m\u001b[0;34m,\u001b[0m \u001b[0;34m'F7'\u001b[0m\u001b[0;34m,\u001b[0m \u001b[0;34m'F8'\u001b[0m\u001b[0;34m,\u001b[0m \u001b[0;34m'F12'\u001b[0m\u001b[0;34m,\u001b[0m \u001b[0;34m'F13'\u001b[0m\u001b[0;34m,\u001b[0m \u001b[0;34m'F15'\u001b[0m\u001b[0;34m,\u001b[0m \u001b[0;34m'F17'\u001b[0m\u001b[0;34m,\u001b[0m \u001b[0;34m'F20'\u001b[0m\u001b[0;34m,\u001b[0m \u001b[0;34m'F24'\u001b[0m\u001b[0;34m]\u001b[0m\u001b[0;34m)\u001b[0m\u001b[0;34m\u001b[0m\u001b[0m\n\u001b[0m\u001b[1;32m      6\u001b[0m \u001b[0;34m\u001b[0m\u001b[0m\n\u001b[1;32m      7\u001b[0m \u001b[0;31m# Train an xgb model with default hyper params and get the initial AUC.\u001b[0m\u001b[0;34m\u001b[0m\u001b[0;34m\u001b[0m\u001b[0m\n",
      "\u001b[0;32m<ipython-input-224-34937c0afec6>\u001b[0m in \u001b[0;36mencode_features\u001b[0;34m(train, test, features)\u001b[0m\n\u001b[1;32m     20\u001b[0m \u001b[0;34m\u001b[0m\u001b[0m\n\u001b[1;32m     21\u001b[0m     \u001b[0;31m# Encode the data.\u001b[0m\u001b[0;34m\u001b[0m\u001b[0;34m\u001b[0m\u001b[0m\n\u001b[0;32m---> 22\u001b[0;31m     \u001b[0mtrain_encoded\u001b[0m \u001b[0;34m=\u001b[0m \u001b[0menc\u001b[0m\u001b[0;34m.\u001b[0m\u001b[0mtransform\u001b[0m\u001b[0;34m(\u001b[0m\u001b[0mtrain\u001b[0m\u001b[0;34m)\u001b[0m\u001b[0;34m\u001b[0m\u001b[0m\n\u001b[0m\u001b[1;32m     23\u001b[0m     \u001b[0mtest_encoded\u001b[0m \u001b[0;34m=\u001b[0m \u001b[0menc\u001b[0m\u001b[0;34m.\u001b[0m\u001b[0mtransform\u001b[0m\u001b[0;34m(\u001b[0m\u001b[0mtest\u001b[0m\u001b[0;34m)\u001b[0m\u001b[0;34m\u001b[0m\u001b[0m\n",
      "\u001b[0;32m/Users/anthonydepalatis/anaconda/lib/python2.7/site-packages/sklearn/preprocessing/data.pyc\u001b[0m in \u001b[0;36mtransform\u001b[0;34m(self, X)\u001b[0m\n\u001b[1;32m   1956\u001b[0m         \"\"\"\n\u001b[1;32m   1957\u001b[0m         return _transform_selected(X, self._transform,\n\u001b[0;32m-> 1958\u001b[0;31m                                    self.categorical_features, copy=True)\n\u001b[0m",
      "\u001b[0;32m/Users/anthonydepalatis/anaconda/lib/python2.7/site-packages/sklearn/preprocessing/data.pyc\u001b[0m in \u001b[0;36m_transform_selected\u001b[0;34m(X, transform, selected, copy)\u001b[0m\n\u001b[1;32m   1695\u001b[0m     \u001b[0mX\u001b[0m \u001b[0;34m:\u001b[0m \u001b[0marray\u001b[0m \u001b[0;32mor\u001b[0m \u001b[0msparse\u001b[0m \u001b[0mmatrix\u001b[0m\u001b[0;34m,\u001b[0m \u001b[0mshape\u001b[0m\u001b[0;34m=\u001b[0m\u001b[0;34m(\u001b[0m\u001b[0mn_samples\u001b[0m\u001b[0;34m,\u001b[0m \u001b[0mn_features_new\u001b[0m\u001b[0;34m)\u001b[0m\u001b[0;34m\u001b[0m\u001b[0m\n\u001b[1;32m   1696\u001b[0m     \"\"\"\n\u001b[0;32m-> 1697\u001b[0;31m     \u001b[0mX\u001b[0m \u001b[0;34m=\u001b[0m \u001b[0mcheck_array\u001b[0m\u001b[0;34m(\u001b[0m\u001b[0mX\u001b[0m\u001b[0;34m,\u001b[0m \u001b[0maccept_sparse\u001b[0m\u001b[0;34m=\u001b[0m\u001b[0;34m'csc'\u001b[0m\u001b[0;34m,\u001b[0m \u001b[0mcopy\u001b[0m\u001b[0;34m=\u001b[0m\u001b[0mcopy\u001b[0m\u001b[0;34m,\u001b[0m \u001b[0mdtype\u001b[0m\u001b[0;34m=\u001b[0m\u001b[0mFLOAT_DTYPES\u001b[0m\u001b[0;34m)\u001b[0m\u001b[0;34m\u001b[0m\u001b[0m\n\u001b[0m\u001b[1;32m   1698\u001b[0m \u001b[0;34m\u001b[0m\u001b[0m\n\u001b[1;32m   1699\u001b[0m     \u001b[0;32mif\u001b[0m \u001b[0misinstance\u001b[0m\u001b[0;34m(\u001b[0m\u001b[0mselected\u001b[0m\u001b[0;34m,\u001b[0m \u001b[0msix\u001b[0m\u001b[0;34m.\u001b[0m\u001b[0mstring_types\u001b[0m\u001b[0;34m)\u001b[0m \u001b[0;32mand\u001b[0m \u001b[0mselected\u001b[0m \u001b[0;34m==\u001b[0m \u001b[0;34m\"all\"\u001b[0m\u001b[0;34m:\u001b[0m\u001b[0;34m\u001b[0m\u001b[0m\n",
      "\u001b[0;32m/Users/anthonydepalatis/anaconda/lib/python2.7/site-packages/sklearn/utils/validation.pyc\u001b[0m in \u001b[0;36mcheck_array\u001b[0;34m(array, accept_sparse, dtype, order, copy, force_all_finite, ensure_2d, allow_nd, ensure_min_samples, ensure_min_features, warn_on_dtype, estimator)\u001b[0m\n\u001b[1;32m    405\u001b[0m                              % (array.ndim, estimator_name))\n\u001b[1;32m    406\u001b[0m         \u001b[0;32mif\u001b[0m \u001b[0mforce_all_finite\u001b[0m\u001b[0;34m:\u001b[0m\u001b[0;34m\u001b[0m\u001b[0m\n\u001b[0;32m--> 407\u001b[0;31m             \u001b[0m_assert_all_finite\u001b[0m\u001b[0;34m(\u001b[0m\u001b[0marray\u001b[0m\u001b[0;34m)\u001b[0m\u001b[0;34m\u001b[0m\u001b[0m\n\u001b[0m\u001b[1;32m    408\u001b[0m \u001b[0;34m\u001b[0m\u001b[0m\n\u001b[1;32m    409\u001b[0m     \u001b[0mshape_repr\u001b[0m \u001b[0;34m=\u001b[0m \u001b[0m_shape_repr\u001b[0m\u001b[0;34m(\u001b[0m\u001b[0marray\u001b[0m\u001b[0;34m.\u001b[0m\u001b[0mshape\u001b[0m\u001b[0;34m)\u001b[0m\u001b[0;34m\u001b[0m\u001b[0m\n",
      "\u001b[0;32m/Users/anthonydepalatis/anaconda/lib/python2.7/site-packages/sklearn/utils/validation.pyc\u001b[0m in \u001b[0;36m_assert_all_finite\u001b[0;34m(X)\u001b[0m\n\u001b[1;32m     56\u001b[0m             and not np.isfinite(X).all()):\n\u001b[1;32m     57\u001b[0m         raise ValueError(\"Input contains NaN, infinity\"\n\u001b[0;32m---> 58\u001b[0;31m                          \" or a value too large for %r.\" % X.dtype)\n\u001b[0m\u001b[1;32m     59\u001b[0m \u001b[0;34m\u001b[0m\u001b[0m\n\u001b[1;32m     60\u001b[0m \u001b[0;34m\u001b[0m\u001b[0m\n",
      "\u001b[0;31mValueError\u001b[0m: Input contains NaN, infinity or a value too large for dtype('float64')."
     ]
    }
   ],
   "source": [
    "train = pd.read_csv('/Users/anthonydepalatis/Documents/Workspace/school/MidtermProject379K/data/train.csv')\n",
    "test = pd.read_csv('/Users/anthonydepalatis/Documents/Workspace/school/MidtermProject379K/data/test.csv')\n",
    "\n",
    "#plot_features(train)\n",
    "encode_features(train, test, ['F1', 'F4', 'F5', 'F7', 'F8', 'F12', 'F13', 'F15', 'F17', 'F20', 'F24'])\n",
    "\n",
    "# Train an xgb model with default hyper params and get the initial AUC.\n",
    "gbm = xgb.XGBClassifier()\n",
    "cross_validate(train.drop(['id', 'Y'], axis=1), train['Y'], 5, gbm)\n",
    "\n",
    "# Stack xgb with default hyper params.\n",
    "train, test = stack_model(gbm, train, test, 'xgb1')\n",
    "#cross_validate(train.drop(['id', 'Y'], axis=1), train['Y'], 5, xgb.XGBClassifier(n_estimators=78))\n",
    "\n",
    "# Stack xgb with optimized n_estimators.\n",
    "#gbm = xgb.XGBClassifier(n_estimators=78)\n",
    "#train, test = stack_model(gbm, train, test, 'xgb2')\n",
    "\n",
    "# Initialize final model.\n",
    "gbm = xgb.XGBClassifier()\n",
    "cross_validate(train.drop(['id', 'Y'], axis=1), train['Y'], 5, gbm)\n",
    "\n",
    "# Make final predictions\n",
    "gbm.fit(train.drop(['id', 'Y'], axis=1), train['Y'])\n",
    "test_preds = gbm.predict_proba(test.drop(['id'], axis=1))[:,1]\n",
    "submission = pd.DataFrame({\"Id\":test.id, \"Y\":test_preds})\n",
    "submission.to_csv('/Users/anthonydepalatis/Documents/Workspace/school/MidtermProject379K/submission.csv', index=False)"
   ]
  },
  {
   "cell_type": "code",
   "execution_count": null,
   "metadata": {
    "collapsed": true
   },
   "outputs": [],
   "source": []
  }
 ],
 "metadata": {
  "kernelspec": {
   "display_name": "Python 2",
   "language": "python",
   "name": "python2"
  },
  "language_info": {
   "codemirror_mode": {
    "name": "ipython",
    "version": 2
   },
   "file_extension": ".py",
   "mimetype": "text/x-python",
   "name": "python",
   "nbconvert_exporter": "python",
   "pygments_lexer": "ipython2",
   "version": "2.7.13"
  }
 },
 "nbformat": 4,
 "nbformat_minor": 2
}
