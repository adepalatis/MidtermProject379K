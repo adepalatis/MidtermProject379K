{
 "cells": [
  {
   "cell_type": "code",
   "execution_count": 50,
   "metadata": {
    "collapsed": false
   },
   "outputs": [],
   "source": [
    "import numpy as np\n",
    "import pandas as pd\n",
    "import scipy as sp\n",
    "import matplotlib.pyplot as plt\n",
    "import xgboost as xgb\n",
    "\n",
    "from sklearn.ensemble import RandomForestClassifier\n",
    "from sklearn.linear_model import LogisticRegression\n",
    "from sklearn.preprocessing import OneHotEncoder\n",
    "from sklearn.model_selection import GridSearchCV\n",
    "from sklearn.cross_validation import train_test_split\n",
    "from sklearn.discriminant_analysis import LinearDiscriminantAnalysis as LDA\n",
    "\n",
    "SEED = 42"
   ]
  },
  {
   "cell_type": "code",
   "execution_count": 51,
   "metadata": {
    "collapsed": true
   },
   "outputs": [],
   "source": [
    "''' Performs k-fold cross validation. '''\n",
    "def cross_validate(x, y, k, model):\n",
    "    mean_err = 0.\n",
    "    for i in range(k):\n",
    "        # Split the training data into training and testing sets for cross-validation.\n",
    "        x_train, x_cv, y_train, y_cv = train_test_split(x, y, test_size=float(1)/k, random_state=i*SEED)\n",
    "\n",
    "        model.fit(x_train, y_train)\n",
    "\n",
    "        # Calculate training error.\n",
    "        preds = model.predict(x_cv)\n",
    "        fold_err = model.score(x_cv, y_cv)\n",
    "        mean_err += fold_err\n",
    "    mean_err /= k\n",
    "    print mean_err"
   ]
  },
  {
   "cell_type": "code",
   "execution_count": 52,
   "metadata": {
    "collapsed": true
   },
   "outputs": [],
   "source": [
    "''' Creates scatter plots for each feature. '''\n",
    "def plot_features(data):\n",
    "    for feature in data:\n",
    "        if feature != 'id':\n",
    "            plt.scatter(data['id'], data[feature])\n",
    "            plt.title(feature)\n",
    "            plt.show()"
   ]
  },
  {
   "cell_type": "code",
   "execution_count": 53,
   "metadata": {
    "collapsed": true
   },
   "outputs": [],
   "source": [
    "''' Finds the optimal hyper parameters for and XGB model. '''\n",
    "''' WARNING: EXTREMELY LONG RUN-TIME '''\n",
    "def optimize_xgb(train):\n",
    "    tune_params = [{'max_depth': [k for k in range(40)]}, \n",
    "               {'learning_rate': [k for k in np.linspace(0.01, 0.05, 5)]},\n",
    "               {'n_estimators': [k for k in range(300)]},\n",
    "               {'gamma': [k for k in np.linspace(0.0, 0.1, 10)]}]\n",
    "    gs = GridSearchCV(xgb.XGBClassifier(), tune_params, cv=5)\n",
    "    gs.fit(train.drop(['id', 'Y'], axis=1), train['Y'])\n",
    "    print gs.best_params_\n",
    "    print gs.best_score_\n",
    "    return gs.best_estimator_"
   ]
  },
  {
   "cell_type": "code",
   "execution_count": 54,
   "metadata": {
    "collapsed": true
   },
   "outputs": [],
   "source": [
    "def encode_features(train, test, features):\n",
    "    for x in range(len(features)):\n",
    "        features[x] = train.columns.get_loc(features[x])\n",
    "    \n",
    "    enc = OneHotEncoder(categorical_features=features, handle_unknown='ignore')\n",
    "    enc.fit(train.append(test).fillna(train.append(test).mean()))\n",
    "    \n",
    "    train_encoded = enc.transform(train)\n",
    "    test_encoded = enc.transform(test)\n",
    "    return train_encoded, test_encoded"
   ]
  },
  {
   "cell_type": "code",
   "execution_count": 55,
   "metadata": {
    "collapsed": false
   },
   "outputs": [],
   "source": [
    "''' Stacks the predictions from the given model onto the given training and testing data as 'new_feature'. '''\n",
    "def stack_model(model, train, test, new_feature):\n",
    "    model.fit(train.drop(['id', 'Y'], axis=1), train['Y'])\n",
    "    train[new_feature] = pd.DataFrame(model.predict_proba(train.drop(['id', 'Y'], axis=1))[:,1])\n",
    "    test[new_feature] = pd.DataFrame(model.predict_proba(test.drop(['id'], axis=1))[:,1])\n",
    "    return train, test"
   ]
  },
  {
   "cell_type": "code",
   "execution_count": 59,
   "metadata": {
    "collapsed": false
   },
   "outputs": [
    {
     "name": "stdout",
     "output_type": "stream",
     "text": [
      "0.93684\n",
      "0.93414\n",
      "0.93552\n",
      "\n",
      "Final model's score:\n",
      "0.93684\n"
     ]
    }
   ],
   "source": [
    "train = pd.read_csv('/Users/anthonydepalatis/Documents/Workspace/school/MidtermProject379K/data/train.csv')\n",
    "test = pd.read_csv('/Users/anthonydepalatis/Documents/Workspace/school/MidtermProject379K/data/test.csv')\n",
    "\n",
    "# Fill all empty rows with the mean of that column.\n",
    "train = train.fillna(train.mean())\n",
    "test = test.fillna(test.mean())\n",
    "\n",
    "# Separate labels, features, and indices\n",
    "x_train = train.drop(['id', 'Y'], axis=1)\n",
    "x_test = test.drop(['id'], axis=1)\n",
    "Y = train['Y']\n",
    "\n",
    "# Encode that shit.\n",
    "x_train, x_test = encode_features(x_train, x_test, ['F1', 'F4', 'F5', 'F7', 'F8', 'F12', 'F13', 'F15', 'F17', 'F20', 'F24'])\n",
    "\n",
    "# Train an xgb model with default hyper params and get the initial AUC.\n",
    "gbm = xgb.XGBClassifier()\n",
    "cross_validate(x_train, Y, 5, gbm)\n",
    "\n",
    "# Train a logistic regression model with default hyper params and get the initial AUC.\n",
    "clf = LogisticRegression()\n",
    "cross_validate(x_train, Y, 5, clf)\n",
    "\n",
    "# Train a random forest model with default hyper params and get the initial AUC.\n",
    "clf = RandomForestClassifier()\n",
    "cross_validate(x_train, Y, 5, clf)\n",
    "\n",
    "# Stack xgb with default hyper params.\n",
    "#print '\\n------Beginning parameter stacking...------\\n'\n",
    "#train, test = stack_model(gbm, train, test, 'xgb1')\n",
    "#cross_validate(train.drop(['id', 'Y'], axis=1), train['Y'], 5, xgb.XGBClassifier())\n",
    "\n",
    "# Stack xgb with optimized n_estimators.\n",
    "#gbm = xgb.XGBClassifier(n_estimators=78)\n",
    "#train, test = stack_model(gbm, train, test, 'xgb2')\n",
    "\n",
    "# Stack log reg with default hyper params.\n",
    "#train, test = stack_model(LogisticRegression(), train, test, 'log_reg1')\n",
    "#cross_validate(train.drop(['id', 'Y'], axis=1), Y, 5, xgb.XGBClassifier())\n",
    "\n",
    "# Stack random forest with default hyper params.\n",
    "#train, test = stack_model(RandomForestClassifier(), train, test, 'rand1')\n",
    "#cross_validate(train.drop(['id', 'Y'], axis=1), Y, 5, xgb.XGBClassifier())\n",
    "\n",
    "# Initialize final model.\n",
    "gbm = xgb.XGBClassifier()\n",
    "print '\\nFinal model\\'s score:'\n",
    "cross_validate(x_train, Y, 5, gbm)\n",
    "\n",
    "# Make final predictions\n",
    "gbm.fit(x_train, Y)\n",
    "test_preds = gbm.predict_proba(x_test)[:,1]\n",
    "submission = pd.DataFrame({\"Id\":test.id, \"Y\":test_preds})\n",
    "submission.to_csv('/Users/anthonydepalatis/Documents/Workspace/school/MidtermProject379K/submission.csv', index=False)"
   ]
  },
  {
   "cell_type": "code",
   "execution_count": null,
   "metadata": {
    "collapsed": true
   },
   "outputs": [],
   "source": []
  }
 ],
 "metadata": {
  "kernelspec": {
   "display_name": "Python 2",
   "language": "python",
   "name": "python2"
  },
  "language_info": {
   "codemirror_mode": {
    "name": "ipython",
    "version": 2
   },
   "file_extension": ".py",
   "mimetype": "text/x-python",
   "name": "python",
   "nbconvert_exporter": "python",
   "pygments_lexer": "ipython2",
   "version": "2.7.13"
  }
 },
 "nbformat": 4,
 "nbformat_minor": 2
}
